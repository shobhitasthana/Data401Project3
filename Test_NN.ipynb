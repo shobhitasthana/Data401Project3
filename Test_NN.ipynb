{
 "cells": [
  {
   "cell_type": "code",
   "execution_count": 92,
   "metadata": {},
   "outputs": [],
   "source": [
    "import sklearn as sk\n",
    "from sklearn import datasets\n",
    "import matplotlib.pyplot as plt\n",
    "from sklearn import metrics\n",
    "from sklearn import preprocessing\n",
    "from sklearn.model_selection import train_test_split"
   ]
  },
  {
   "cell_type": "code",
   "execution_count": 129,
   "metadata": {},
   "outputs": [],
   "source": [
    "import pandas as pd\n",
    "import numpy as np \n",
    "\n",
    "\n",
    "class NeuralNetwork:\n",
    "    \"\"\"\n",
    "    Layers: an Integer value representing the total number of hidden layers in the network (input and output layers are extra)\n",
    "    Nodes: an integer array of size [0,..,Layers+1] containing the dimensions of the neural network. \n",
    "    Nodes[0] shall represent the input size (typically, 50), Nodes[Layers+1] shall represent the number of output nodes (typically, 1). \n",
    "    All other values Nodes[i] represent the number of nodes in hidden layer i.\n",
    "\n",
    "    NNodes: a possible alternative to the Nodes parameter for situations where you want each hidden layer of the neural network to be of the same size. \n",
    "    In this case, the size of the output layer is assumed to be 1, and the size of the input layer can be inferred from the dataset.\n",
    "\n",
    "    Activations: an array of size [0,..,Layers+1] (for the sake of compatibility) in which Activations[0] and Activations[Layers+1] are not used, while all other Activations[i] values are labels indicating the activation function used in layer i. \n",
    "    This allows you to build neural networks with different activation functions in each layer.\n",
    "    \"\"\"\n",
    "    def __init__(self,Nodes,Activations):\n",
    "\n",
    "\n",
    "\n",
    "        self.Layers = len(Nodes) - 2\n",
    "        self.Nodes = Nodes\n",
    "        self.Activations = Activations\n",
    "        self.parameter_dict ={}\n",
    "        self.rate = 0.001\n",
    "\n",
    "    def initialize_net(self):\n",
    "        '''\n",
    "        parameter dict format:\n",
    "        layer: {w,h,z,delta, activation}\n",
    "        '''\n",
    "        parameter_dict = {k: {'w':0, 'h':0, 'z':0, 'bias':0,\n",
    "                              'delta':0, 'activation':0, 'gradient':0, 'g_bias':0} \n",
    "                          for k in range(len(self.Nodes))}\n",
    "        \n",
    "        for i in range(1,len(self.Nodes)):\n",
    "            \n",
    "            h = np.matrix(np.random.randn(self.Nodes[i]), dtype='float32')\n",
    "            w = np.matrix(np.random.randn((self.Nodes[i-1]),(self.Nodes[i])), dtype='float32')\n",
    "            z = np.matrix(np.zeros(self.Nodes[i]), dtype='float32')\n",
    "            bias = np.matrix(np.random.randn(self.Nodes[i]), dtype='float32')\n",
    "            delta = np.matrix(np.random.randn(self.Nodes[i]), dtype='float32')\n",
    "            gradient = np.matrix(np.zeros((self.Nodes[i-1],self.Nodes[i])), dtype='float32')\n",
    "            g_bias = np.matrix(np.zeros(self.Nodes[i]), dtype='float32')\n",
    "            activation = self.Activations[i-1]\n",
    "\n",
    "            parameter_dict[i] = {'w':w, 'h':h, 'z':z, 'bias':bias, \n",
    "                                 'delta':delta, 'activation':activation, \n",
    "                                 'gradient':gradient, 'g_bias':g_bias}\n",
    "            \n",
    "        parameter_dict['y_hat'] = np.random.randint(100000,size =1)[0]\n",
    "        self.parameter_dict = parameter_dict\n",
    "        return parameter_dict\n",
    "    \n",
    "    def activate(self, z,activation='relu'):\n",
    "        if activation =='relu':\n",
    "            if z > 0:\n",
    "                return z\n",
    "            else:\n",
    "                return 0\n",
    "        if activation == 'sigmoid':\n",
    "            return (1/(1+np.e** -z))\n",
    "        \n",
    "    def activate_prime(self, z, activation='relu'):\n",
    "        if activation == 'relu':\n",
    "            if z > 0:\n",
    "                return 1\n",
    "            return 0\n",
    "        \n",
    "    def forward_propogate(self,data):\n",
    "        self.parameter_dict[0]['h'] = np.matrix(data)\n",
    "        for i in range(1,len(self.Nodes)-1):\n",
    "            #new z value calculated by multiplying node weights and adding bias \n",
    "            newz = np.matrix(np.matmul(self.parameter_dict[i-1]['h'],self.parameter_dict[i]['w'])) + self.parameter_dict[i]['bias']\n",
    "            newh = np.matrix(np.apply_along_axis(self.activate,0,newz))\n",
    "            self.parameter_dict[i]['z'] = newz\n",
    "            self.parameter_dict[i]['h'] = newh\n",
    "        self.parameter_dict['y_hat'] = np.asscalar(np.matmul(self.parameter_dict[len(self.Nodes)-2]['h'],\n",
    "                                                             self.parameter_dict[len(self.Nodes)-1]['w']))\n",
    "\n",
    "        return self.parameter_dict['y_hat']\n",
    "\n",
    "    def calculate_deltas(self,true):\n",
    "        \"\"\"\n",
    "        true: the value of the true y-value\n",
    "        assumes that all the entries in the dictionary are np.array where applicable\n",
    "        assumes weights matrix for w_ij appears as j being constant across rows and i across cols\n",
    "        e.g. [[w11,w21],[w12,w22]] \n",
    "        \"\"\"\n",
    "        # calculate sum of dervatives of cost\n",
    "        error = self.parameter_dict[\"y_hat\"] - true\n",
    "        # last layer d (indexing is correct?)\n",
    "        # get Zs from the last layer as well\n",
    "        # error * g'(z)\n",
    "        self.parameter_dict[len(self.Nodes) - 1][\"delta\"] = np.matrix(error)\n",
    "        # last layer is special case, now loop through all the previous layers to calculate sets of deltas\n",
    "        # from the second to last layer to the first layer – backwards\n",
    "\n",
    "        for i in range(len(self.Nodes) - 2,0,-1):\n",
    "            # delta = weights.T x diag(g'(z)) x delta[i+1]\n",
    "            # extra Ts are just making things into column vectors\n",
    "            # add the intercept into g_prime\n",
    "            #print(i)\n",
    "            g_prime_layer = np.apply_along_axis(self.activate_prime,0,self.parameter_dict[i][\"z\"])\n",
    "\n",
    "            self.parameter_dict[i][\"delta\"] = np.matmul(self.parameter_dict[i + 1][\"delta\"],\n",
    "                                                        np.matmul(self.parameter_dict[i + 1][\"w\"].T,\n",
    "                                                                  np.matrix(np.diag(g_prime_layer))))\n",
    "         \n",
    "    def update_gradient(self):\n",
    "        for l in range(len(self.Nodes) - 1, 0, -1):\n",
    "            self.parameter_dict[l]['g_bias'] += self.parameter_dict[l]['delta']\n",
    "            self.parameter_dict[l]['gradient'] += np.dot(self.parameter_dict[l - 1]['h'].T, \n",
    "                                                                     self.parameter_dict[l]['delta'])\n",
    "\n",
    "    def walk_gradient(self):\n",
    "        for l in range(len(self.Nodes) - 1, 0, -1):\n",
    "            self.parameter_dict[l]['bias'] -= self.rate * self.parameter_dict[l]['g_bias']\n",
    "            self.parameter_dict[l]['g_bias'] = 0 * self.parameter_dict[l]['g_bias']\n",
    "            \n",
    "            self.parameter_dict[l]['w'] -= self.rate * self.parameter_dict[l]['gradient']\n",
    "            self.parameter_dict[l]['gradient'] = 0 * self.parameter_dict[l]['gradient']\n",
    "            \n",
    "    def train(self,data,y,batch_size = 100, epochs = 8):\n",
    "\n",
    "        self.initialize_net()\n",
    "        for i in range(epochs * len(data)):\n",
    "            idx = i % len(data)\n",
    "            \n",
    "            if i % batch_size == 0 and i != 0:\n",
    "                self.walk_gradient()\n",
    "                \n",
    "            self.forward_propogate(data[idx,:])\n",
    "            self.calculate_deltas(y[idx])\n",
    "            self.update_gradient()\n",
    "    \n",
    "    def predict(self, test_data):\n",
    "        preds = []\n",
    "        for i in range(len(test_data)):\n",
    "            self.forward_propogate(test_data[i])\n",
    "            preds.append(self.parameter_dict['y_hat'])\n",
    "        return preds"
   ]
  },
  {
   "cell_type": "code",
   "execution_count": 77,
   "metadata": {},
   "outputs": [],
   "source": [
    "nodes = [3,2,2,1]\n",
    "activation = ['relu','relu','relu','relu']\n",
    "net = NeuralNetwork(nodes,activation)\n",
    "net.initialize_net()\n",
    "net.parameter_dict[1]['w'] = np.matrix([[3.,1.],[2.,0],[1,-1]])\n",
    "net.parameter_dict[2]['w'] = np.matrix([[-2.,4],[0,-3.]])\n",
    "net.parameter_dict[3]['w'] = np.matrix([[5.],[2]])\n",
    "net.parameter_dict[1]['bias'] = np.matrix([[0.,0]])\n",
    "net.parameter_dict[2]['bias'] = np.matrix([[0.,0]])\n",
    "net.parameter_dict[3]['bias'] = np.matrix([[0.]])\n",
    "data = np.matrix([1,-2,2])"
   ]
  },
  {
   "cell_type": "code",
   "execution_count": 78,
   "metadata": {},
   "outputs": [
    {
     "data": {
      "text/plain": [
       "8.0"
      ]
     },
     "execution_count": 78,
     "metadata": {},
     "output_type": "execute_result"
    }
   ],
   "source": [
    "net.forward_propogate(data)"
   ]
  },
  {
   "cell_type": "code",
   "execution_count": 79,
   "metadata": {},
   "outputs": [],
   "source": [
    "net.calculate_deltas(3)"
   ]
  },
  {
   "cell_type": "code",
   "execution_count": 80,
   "metadata": {},
   "outputs": [],
   "source": [
    "net.update_gradient()"
   ]
  },
  {
   "cell_type": "code",
   "execution_count": 81,
   "metadata": {},
   "outputs": [],
   "source": [
    "net.walk_gradient()"
   ]
  },
  {
   "cell_type": "code",
   "execution_count": null,
   "metadata": {},
   "outputs": [],
   "source": []
  },
  {
   "cell_type": "code",
   "execution_count": 109,
   "metadata": {},
   "outputs": [],
   "source": [
    "boston,prices = datasets.load_boston(return_X_y=True)\n",
    "X_train, X_test, y_train, y_test = train_test_split(\n",
    "boston, prices, test_size=0.2, random_state=42)\n",
    "\n",
    "scaler = preprocessing.StandardScaler( )\n",
    "X_train = scaler.fit_transform( X_train )\n",
    "X_test = scaler.fit_transform( X_test )"
   ]
  },
  {
   "cell_type": "code",
   "execution_count": 139,
   "metadata": {},
   "outputs": [],
   "source": [
    "nodes = [13,10,10,1]\n",
    "net = NeuralNetwork(nodes, activation)\n",
    "\n",
    "net.train(X_train,y_train,batch_size=1, epochs=10)"
   ]
  },
  {
   "cell_type": "code",
   "execution_count": 136,
   "metadata": {},
   "outputs": [],
   "source": [
    "y_pred = net.predict(X_test)\n",
    "#y_pred"
   ]
  },
  {
   "cell_type": "code",
   "execution_count": 137,
   "metadata": {},
   "outputs": [
    {
     "data": {
      "text/plain": [
       "Text(0.5, 1.0, 'Real vs Predicted Housing Prices')"
      ]
     },
     "execution_count": 137,
     "metadata": {},
     "output_type": "execute_result"
    },
    {
     "data": {
      "image/png": "[encoded data removed]",
      "text/plain": [
       "<Figure size 432x288 with 1 Axes>"
      ]
     },
     "metadata": {
      "needs_background": "light"
     },
     "output_type": "display_data"
    }
   ],
   "source": [
    "plt.scatter( y_pred, y_test, s=5 )\n",
    "plt.xlabel( \"Predicted Prices\")\n",
    "plt.ylabel( \"Real Prices\")\n",
    "plt.title( \"Real vs Predicted Housing Prices\")"
   ]
  },
  {
   "cell_type": "code",
   "execution_count": 138,
   "metadata": {},
   "outputs": [
    {
     "name": "stdout",
     "output_type": "stream",
     "text": [
      "MSE: 21.447466\n"
     ]
    }
   ],
   "source": [
    "score = metrics.mean_squared_error( y_pred, y_test )\n",
    "print('MSE: {0:f}'.format(score) )"
   ]
  },
  {
   "cell_type": "code",
   "execution_count": null,
   "metadata": {},
   "outputs": [],
   "source": []
  }
 ],
 "metadata": {
  "kernelspec": {
   "display_name": "Python 3",
   "language": "python",
   "name": "python3"
  },
  "language_info": {
   "codemirror_mode": {
    "name": "ipython",
    "version": 3
   },
   "file_extension": ".py",
   "mimetype": "text/x-python",
   "name": "python",
   "nbconvert_exporter": "python",
   "pygments_lexer": "ipython3",
   "version": "3.7.4"
  }
 },
 "nbformat": 4,
 "nbformat_minor": 2
}
