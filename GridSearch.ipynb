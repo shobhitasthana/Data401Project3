{
 "cells": [
  {
   "cell_type": "code",
   "execution_count": 1,
   "metadata": {},
   "outputs": [],
   "source": [
    "import sklearn as sk\n",
    "from sklearn import datasets\n",
    "import matplotlib.pyplot as plt\n",
    "from sklearn import metrics\n",
    "from sklearn import preprocessing\n",
    "from sklearn.model_selection import train_test_split\n",
    "from NeuralNetwork import *\n",
    "import pandas as pd\n",
    "import numpy as np "
   ]
  },
  {
   "cell_type": "code",
   "execution_count": 2,
   "metadata": {},
   "outputs": [],
   "source": [
    "data = pd.read_csv('final_NN_feat (1).csv')\n",
    "target = data[\"target\"]\n",
    "data = data.drop(['timestamp',\"target\",'Unnamed: 0'], axis = 1)\n",
    "X_train, X_test, y_train, y_test = train_test_split(data\n",
    "                                                    , target, test_size=0.2, random_state=42)\n",
    "\n",
    "scalerX = preprocessing.StandardScaler().fit(X_train)\n",
    "scalery = preprocessing.StandardScaler().fit(np.array(y_train).reshape(-1, 1))\n",
    "X_train = scalerX.transform(X_train)\n",
    "X_test = scalerX.transform(X_test)\n",
    "y_train = scalery.transform(np.array(y_train).reshape(-1, 1))\n",
    "y_test = scalery.transform(np.array(y_test).reshape(-1, 1))"
   ]
  },
  {
   "cell_type": "code",
   "execution_count": 4,
   "metadata": {
    "scrolled": true
   },
   "outputs": [
    {
     "name": "stdout",
     "output_type": "stream",
     "text": [
      "0.0\n",
      "0.04999794880210043\n",
      "0.09999589760420086\n",
      "Epoch  1 MSE: 0.8942804561364328\n",
      "0.14999384640630128\n",
      "0.1999917952084017\n",
      "0.24998974401050214\n",
      "Epoch  2 MSE: 0.8977240566492223\n"
     ]
    },
    {
     "ename": "KeyboardInterrupt",
     "evalue": "",
     "output_type": "error",
     "traceback": [
      "\u001b[1;31m---------------------------------------------------------------------------\u001b[0m",
      "\u001b[1;31mKeyboardInterrupt\u001b[0m                         Traceback (most recent call last)",
      "\u001b[1;32m<ipython-input-4-70eb357b2fe6>\u001b[0m in \u001b[0;36m<module>\u001b[1;34m\u001b[0m\n\u001b[0;32m      1\u001b[0m \u001b[0mnet\u001b[0m \u001b[1;33m=\u001b[0m \u001b[0mNeuralNetwork\u001b[0m\u001b[1;33m(\u001b[0m\u001b[1;33m[\u001b[0m\u001b[1;36m36\u001b[0m\u001b[1;33m,\u001b[0m\u001b[1;36m20\u001b[0m\u001b[1;33m,\u001b[0m\u001b[1;36m20\u001b[0m\u001b[1;33m,\u001b[0m\u001b[1;36m10\u001b[0m\u001b[1;33m,\u001b[0m\u001b[1;36m1\u001b[0m\u001b[1;33m]\u001b[0m\u001b[1;33m,\u001b[0m\u001b[1;33m[\u001b[0m\u001b[1;34m'relu'\u001b[0m\u001b[1;33m]\u001b[0m\u001b[1;33m*\u001b[0m\u001b[1;36m5\u001b[0m\u001b[1;33m)\u001b[0m\u001b[1;33m\u001b[0m\u001b[1;33m\u001b[0m\u001b[0m\n\u001b[1;32m----> 2\u001b[1;33m \u001b[0mnet\u001b[0m\u001b[1;33m.\u001b[0m\u001b[0mtrain\u001b[0m\u001b[1;33m(\u001b[0m\u001b[0mX_train\u001b[0m\u001b[1;33m,\u001b[0m \u001b[0my_train\u001b[0m\u001b[1;33m,\u001b[0m \u001b[0mbatch_size\u001b[0m\u001b[1;33m=\u001b[0m\u001b[1;36m25\u001b[0m\u001b[1;33m)\u001b[0m\u001b[1;33m\u001b[0m\u001b[1;33m\u001b[0m\u001b[0m\n\u001b[0m",
      "\u001b[1;32m~\\Documents\\Cal Poly\\DATA_401\\Data401Project3\\NeuralNetwork.py\u001b[0m in \u001b[0;36mtrain\u001b[1;34m(self, data, y, batch_size, epochs)\u001b[0m\n\u001b[0;32m    154\u001b[0m                 \u001b[0mself\u001b[0m\u001b[1;33m.\u001b[0m\u001b[0mwalk_gradient\u001b[0m\u001b[1;33m(\u001b[0m\u001b[1;33m)\u001b[0m\u001b[1;33m\u001b[0m\u001b[1;33m\u001b[0m\u001b[0m\n\u001b[0;32m    155\u001b[0m \u001b[1;33m\u001b[0m\u001b[0m\n\u001b[1;32m--> 156\u001b[1;33m             \u001b[0mself\u001b[0m\u001b[1;33m.\u001b[0m\u001b[0mforward_propogate\u001b[0m\u001b[1;33m(\u001b[0m\u001b[0mdata\u001b[0m\u001b[1;33m[\u001b[0m\u001b[0mindices\u001b[0m\u001b[1;33m[\u001b[0m\u001b[0midx\u001b[0m\u001b[1;33m]\u001b[0m\u001b[1;33m,\u001b[0m\u001b[1;33m:\u001b[0m\u001b[1;33m]\u001b[0m\u001b[1;33m)\u001b[0m\u001b[1;33m\u001b[0m\u001b[1;33m\u001b[0m\u001b[0m\n\u001b[0m\u001b[0;32m    157\u001b[0m             \u001b[0mself\u001b[0m\u001b[1;33m.\u001b[0m\u001b[0mcalculate_deltas\u001b[0m\u001b[1;33m(\u001b[0m\u001b[0my\u001b[0m\u001b[1;33m[\u001b[0m\u001b[0mindices\u001b[0m\u001b[1;33m[\u001b[0m\u001b[0midx\u001b[0m\u001b[1;33m]\u001b[0m\u001b[1;33m]\u001b[0m\u001b[1;33m)\u001b[0m\u001b[1;33m\u001b[0m\u001b[1;33m\u001b[0m\u001b[0m\n\u001b[0;32m    158\u001b[0m             \u001b[0mself\u001b[0m\u001b[1;33m.\u001b[0m\u001b[0mupdate_gradient\u001b[0m\u001b[1;33m(\u001b[0m\u001b[1;33m)\u001b[0m\u001b[1;33m\u001b[0m\u001b[1;33m\u001b[0m\u001b[0m\n",
      "\u001b[1;32m~\\Documents\\Cal Poly\\DATA_401\\Data401Project3\\NeuralNetwork.py\u001b[0m in \u001b[0;36mforward_propogate\u001b[1;34m(self, data)\u001b[0m\n\u001b[0;32m     79\u001b[0m             \u001b[1;31m#new z value calculated by multiplying node weights and adding bias\u001b[0m\u001b[1;33m\u001b[0m\u001b[1;33m\u001b[0m\u001b[1;33m\u001b[0m\u001b[0m\n\u001b[0;32m     80\u001b[0m             \u001b[0mkwargs\u001b[0m\u001b[1;33m=\u001b[0m\u001b[1;33m{\u001b[0m\u001b[1;34m'activation'\u001b[0m\u001b[1;33m:\u001b[0m\u001b[0mself\u001b[0m\u001b[1;33m.\u001b[0m\u001b[0mparameter_dict\u001b[0m\u001b[1;33m[\u001b[0m\u001b[0mi\u001b[0m\u001b[1;33m]\u001b[0m\u001b[1;33m[\u001b[0m\u001b[1;34m'activation'\u001b[0m\u001b[1;33m]\u001b[0m\u001b[1;33m}\u001b[0m\u001b[1;33m\u001b[0m\u001b[1;33m\u001b[0m\u001b[0m\n\u001b[1;32m---> 81\u001b[1;33m             \u001b[0mnewz\u001b[0m \u001b[1;33m=\u001b[0m \u001b[0mnp\u001b[0m\u001b[1;33m.\u001b[0m\u001b[0mmatrix\u001b[0m\u001b[1;33m(\u001b[0m\u001b[0mnp\u001b[0m\u001b[1;33m.\u001b[0m\u001b[0mdot\u001b[0m\u001b[1;33m(\u001b[0m\u001b[0mself\u001b[0m\u001b[1;33m.\u001b[0m\u001b[0mparameter_dict\u001b[0m\u001b[1;33m[\u001b[0m\u001b[0mi\u001b[0m\u001b[1;33m-\u001b[0m\u001b[1;36m1\u001b[0m\u001b[1;33m]\u001b[0m\u001b[1;33m[\u001b[0m\u001b[1;34m'h'\u001b[0m\u001b[1;33m]\u001b[0m\u001b[1;33m,\u001b[0m\u001b[0mself\u001b[0m\u001b[1;33m.\u001b[0m\u001b[0mparameter_dict\u001b[0m\u001b[1;33m[\u001b[0m\u001b[0mi\u001b[0m\u001b[1;33m]\u001b[0m\u001b[1;33m[\u001b[0m\u001b[1;34m'w'\u001b[0m\u001b[1;33m]\u001b[0m\u001b[1;33m)\u001b[0m\u001b[1;33m)\u001b[0m \u001b[1;33m+\u001b[0m \u001b[0mself\u001b[0m\u001b[1;33m.\u001b[0m\u001b[0mparameter_dict\u001b[0m\u001b[1;33m[\u001b[0m\u001b[0mi\u001b[0m\u001b[1;33m]\u001b[0m\u001b[1;33m[\u001b[0m\u001b[1;34m'bias'\u001b[0m\u001b[1;33m]\u001b[0m\u001b[1;33m\u001b[0m\u001b[1;33m\u001b[0m\u001b[0m\n\u001b[0m\u001b[0;32m     82\u001b[0m             \u001b[0mnewh\u001b[0m \u001b[1;33m=\u001b[0m \u001b[0mnp\u001b[0m\u001b[1;33m.\u001b[0m\u001b[0mmatrix\u001b[0m\u001b[1;33m(\u001b[0m\u001b[0mnp\u001b[0m\u001b[1;33m.\u001b[0m\u001b[0mapply_along_axis\u001b[0m\u001b[1;33m(\u001b[0m\u001b[0mself\u001b[0m\u001b[1;33m.\u001b[0m\u001b[0mactivate\u001b[0m\u001b[1;33m,\u001b[0m\u001b[1;36m0\u001b[0m\u001b[1;33m,\u001b[0m\u001b[0mnewz\u001b[0m\u001b[1;33m,\u001b[0m \u001b[1;33m**\u001b[0m\u001b[0mkwargs\u001b[0m\u001b[1;33m)\u001b[0m\u001b[1;33m)\u001b[0m\u001b[1;33m\u001b[0m\u001b[1;33m\u001b[0m\u001b[0m\n\u001b[0;32m     83\u001b[0m             \u001b[0mself\u001b[0m\u001b[1;33m.\u001b[0m\u001b[0mparameter_dict\u001b[0m\u001b[1;33m[\u001b[0m\u001b[0mi\u001b[0m\u001b[1;33m]\u001b[0m\u001b[1;33m[\u001b[0m\u001b[1;34m'z'\u001b[0m\u001b[1;33m]\u001b[0m \u001b[1;33m=\u001b[0m \u001b[0mnewz\u001b[0m\u001b[1;33m\u001b[0m\u001b[1;33m\u001b[0m\u001b[0m\n",
      "\u001b[1;31mKeyboardInterrupt\u001b[0m: "
     ]
    }
   ],
   "source": [
    "net = NeuralNetwork([36,20,20,10,1],['relu']*5)\n",
    "net.train(X_train, y_train, batch_size=25)"
   ]
  },
  {
   "cell_type": "code",
   "execution_count": null,
   "metadata": {},
   "outputs": [],
   "source": [
    "y_pred = net.predict(X_test)"
   ]
  },
  {
   "cell_type": "code",
   "execution_count": null,
   "metadata": {},
   "outputs": [],
   "source": [
    "metrics.mean_squared_error(y_test, y_pred)"
   ]
  },
  {
   "cell_type": "code",
   "execution_count": null,
   "metadata": {},
   "outputs": [],
   "source": [
    "net.epoch_MSE"
   ]
  },
  {
   "cell_type": "code",
   "execution_count": null,
   "metadata": {},
   "outputs": [],
   "source": [
    "plt.scatter(np.arange(1,8), net.epoch_MSE)\n",
    "plt.xlabel(\"Epochs\")\n",
    "plt.ylabel(\"MSE\")\n",
    "plt.title(\"Epochs vs MSE for relu activation\")"
   ]
  },
  {
   "cell_type": "code",
   "execution_count": null,
   "metadata": {},
   "outputs": [],
   "source": [
    "metrics.r2_score(y_test, y_pred)"
   ]
  },
  {
   "cell_type": "code",
   "execution_count": null,
   "metadata": {
    "scrolled": true
   },
   "outputs": [
    {
     "name": "stdout",
     "output_type": "stream",
     "text": [
      "0.0\n",
      "0.04999794880210043\n",
      "0.09999589760420086\n",
      "0.14999384640630128\n",
      "0.1999917952084017\n"
     ]
    }
   ],
   "source": [
    "def grid_search(data, target, batch_sizes, rates):\n",
    "    X_train, X_test, y_train, y_test = train_test_split(data\n",
    "                                                        , target, test_size=0.2, random_state=42)\n",
    "\n",
    "    scalerX = preprocessing.StandardScaler().fit(X_train)\n",
    "    scalery = preprocessing.StandardScaler().fit(np.array(y_train).reshape(-1, 1))\n",
    "    X_train = scalerX.transform(X_train)\n",
    "    X_test = scalerX.transform(X_test)\n",
    "    y_train = scalery.transform(np.array(y_train).reshape(-1, 1))\n",
    "    y_test = scalery.transform(np.array(y_test).reshape(-1, 1))\n",
    "    \n",
    "    results = []\n",
    "    nodes = [35, 15, 1]\n",
    "    activations = ['sigmoid'] * 3\n",
    "    for i in range(len(rates)):\n",
    "        net = NeuralNetwork(nodes,activations, rates[i])\n",
    "        for j in batch_sizes:\n",
    "            net.train(X_train,y_train,batch_size = j, epoch_MSE=False)\n",
    "            pred = net.predict(X_test)\n",
    "            mse = mean_squared_error(y_test,pred)\n",
    "            r2 = r2_score(y_test,pred)\n",
    "            results.append({'r2': r2,'mse': mse, 'batch_size': batch_sizes[j], 'learning_rate': rates[i]})\n",
    "            print(results)\n",
    "    return results\n",
    "\n",
    "print(grid_search(data,target, [1,10,25,50],[0.01]))"
   ]
  },
  {
   "cell_type": "code",
   "execution_count": null,
   "metadata": {},
   "outputs": [],
   "source": [
    "20 // 3"
   ]
  },
  {
   "cell_type": "code",
   "execution_count": 8,
   "metadata": {},
   "outputs": [
    {
     "data": {
      "text/html": [
       "<div>\n",
       "<style scoped>\n",
       "    .dataframe tbody tr th:only-of-type {\n",
       "        vertical-align: middle;\n",
       "    }\n",
       "\n",
       "    .dataframe tbody tr th {\n",
       "        vertical-align: top;\n",
       "    }\n",
       "\n",
       "    .dataframe thead th {\n",
       "        text-align: right;\n",
       "    }\n",
       "</style>\n",
       "<table border=\"1\" class=\"dataframe\">\n",
       "  <thead>\n",
       "    <tr style=\"text-align: right;\">\n",
       "      <th></th>\n",
       "      <th>full_sq</th>\n",
       "      <th>metro_min_walk</th>\n",
       "      <th>big_market_km</th>\n",
       "      <th>workplaces_km</th>\n",
       "      <th>university_km</th>\n",
       "      <th>cafe_count_1000</th>\n",
       "      <th>shopping_centers_km</th>\n",
       "      <th>office_km</th>\n",
       "      <th>big_church_km</th>\n",
       "      <th>school_education_centers_top_20_raion</th>\n",
       "      <th>...</th>\n",
       "      <th>unemployment</th>\n",
       "      <th>salary</th>\n",
       "      <th>construction_value</th>\n",
       "      <th>rent_price_1room_eco</th>\n",
       "      <th>rent_price_1room_bus</th>\n",
       "      <th>cpi</th>\n",
       "      <th>childbirth</th>\n",
       "      <th>marriages_per_1000_cap</th>\n",
       "      <th>eurrub</th>\n",
       "      <th>deposits_value</th>\n",
       "    </tr>\n",
       "  </thead>\n",
       "  <tbody>\n",
       "    <tr>\n",
       "      <td>0</td>\n",
       "      <td>43.0</td>\n",
       "      <td>13.575119</td>\n",
       "      <td>10.814172</td>\n",
       "      <td>0.884350</td>\n",
       "      <td>6.715026</td>\n",
       "      <td>19.0</td>\n",
       "      <td>0.648488</td>\n",
       "      <td>0.637189</td>\n",
       "      <td>0.625783</td>\n",
       "      <td>0.0</td>\n",
       "      <td>...</td>\n",
       "      <td>0.014</td>\n",
       "      <td>44898.7</td>\n",
       "      <td>549075.8</td>\n",
       "      <td>29.07</td>\n",
       "      <td>47.85</td>\n",
       "      <td>354.0</td>\n",
       "      <td>10.8</td>\n",
       "      <td>8.5</td>\n",
       "      <td>41.7681</td>\n",
       "      <td>10618898.0</td>\n",
       "    </tr>\n",
       "    <tr>\n",
       "      <td>1</td>\n",
       "      <td>34.0</td>\n",
       "      <td>7.620630</td>\n",
       "      <td>6.910568</td>\n",
       "      <td>0.686252</td>\n",
       "      <td>1.852560</td>\n",
       "      <td>13.0</td>\n",
       "      <td>0.519311</td>\n",
       "      <td>0.688796</td>\n",
       "      <td>0.967821</td>\n",
       "      <td>0.0</td>\n",
       "      <td>...</td>\n",
       "      <td>0.014</td>\n",
       "      <td>44898.7</td>\n",
       "      <td>549075.8</td>\n",
       "      <td>29.07</td>\n",
       "      <td>47.85</td>\n",
       "      <td>354.0</td>\n",
       "      <td>10.8</td>\n",
       "      <td>8.5</td>\n",
       "      <td>41.7537</td>\n",
       "      <td>10618898.0</td>\n",
       "    </tr>\n",
       "    <tr>\n",
       "      <td>2</td>\n",
       "      <td>43.0</td>\n",
       "      <td>17.351515</td>\n",
       "      <td>5.752368</td>\n",
       "      <td>1.510089</td>\n",
       "      <td>0.841254</td>\n",
       "      <td>9.0</td>\n",
       "      <td>1.486533</td>\n",
       "      <td>1.543049</td>\n",
       "      <td>3.178751</td>\n",
       "      <td>0.0</td>\n",
       "      <td>...</td>\n",
       "      <td>0.014</td>\n",
       "      <td>44898.7</td>\n",
       "      <td>549075.8</td>\n",
       "      <td>29.07</td>\n",
       "      <td>47.85</td>\n",
       "      <td>354.0</td>\n",
       "      <td>10.8</td>\n",
       "      <td>8.5</td>\n",
       "      <td>41.7114</td>\n",
       "      <td>10618898.0</td>\n",
       "    </tr>\n",
       "    <tr>\n",
       "      <td>3</td>\n",
       "      <td>89.0</td>\n",
       "      <td>11.565624</td>\n",
       "      <td>27.892717</td>\n",
       "      <td>0.622272</td>\n",
       "      <td>10.903161</td>\n",
       "      <td>12.0</td>\n",
       "      <td>0.599914</td>\n",
       "      <td>0.934273</td>\n",
       "      <td>1.031777</td>\n",
       "      <td>0.0</td>\n",
       "      <td>...</td>\n",
       "      <td>0.014</td>\n",
       "      <td>44898.7</td>\n",
       "      <td>549075.8</td>\n",
       "      <td>30.63</td>\n",
       "      <td>51.15</td>\n",
       "      <td>353.2</td>\n",
       "      <td>10.8</td>\n",
       "      <td>8.5</td>\n",
       "      <td>41.4014</td>\n",
       "      <td>10720911.0</td>\n",
       "    </tr>\n",
       "    <tr>\n",
       "      <td>4</td>\n",
       "      <td>77.0</td>\n",
       "      <td>8.266305</td>\n",
       "      <td>9.155057</td>\n",
       "      <td>0.892668</td>\n",
       "      <td>0.991683</td>\n",
       "      <td>153.0</td>\n",
       "      <td>0.429052</td>\n",
       "      <td>0.077901</td>\n",
       "      <td>0.378756</td>\n",
       "      <td>0.0</td>\n",
       "      <td>...</td>\n",
       "      <td>0.014</td>\n",
       "      <td>44898.7</td>\n",
       "      <td>549075.8</td>\n",
       "      <td>30.63</td>\n",
       "      <td>51.15</td>\n",
       "      <td>353.2</td>\n",
       "      <td>10.8</td>\n",
       "      <td>8.5</td>\n",
       "      <td>41.5902</td>\n",
       "      <td>10920215.0</td>\n",
       "    </tr>\n",
       "  </tbody>\n",
       "</table>\n",
       "<p>5 rows × 35 columns</p>\n",
       "</div>"
      ],
      "text/plain": [
       "   full_sq  metro_min_walk  big_market_km  workplaces_km  university_km  \\\n",
       "0     43.0       13.575119      10.814172       0.884350       6.715026   \n",
       "1     34.0        7.620630       6.910568       0.686252       1.852560   \n",
       "2     43.0       17.351515       5.752368       1.510089       0.841254   \n",
       "3     89.0       11.565624      27.892717       0.622272      10.903161   \n",
       "4     77.0        8.266305       9.155057       0.892668       0.991683   \n",
       "\n",
       "   cafe_count_1000  shopping_centers_km  office_km  big_church_km  \\\n",
       "0             19.0             0.648488   0.637189       0.625783   \n",
       "1             13.0             0.519311   0.688796       0.967821   \n",
       "2              9.0             1.486533   1.543049       3.178751   \n",
       "3             12.0             0.599914   0.934273       1.031777   \n",
       "4            153.0             0.429052   0.077901       0.378756   \n",
       "\n",
       "   school_education_centers_top_20_raion  ...  unemployment   salary  \\\n",
       "0                                    0.0  ...         0.014  44898.7   \n",
       "1                                    0.0  ...         0.014  44898.7   \n",
       "2                                    0.0  ...         0.014  44898.7   \n",
       "3                                    0.0  ...         0.014  44898.7   \n",
       "4                                    0.0  ...         0.014  44898.7   \n",
       "\n",
       "   construction_value  rent_price_1room_eco  rent_price_1room_bus    cpi  \\\n",
       "0            549075.8                 29.07                 47.85  354.0   \n",
       "1            549075.8                 29.07                 47.85  354.0   \n",
       "2            549075.8                 29.07                 47.85  354.0   \n",
       "3            549075.8                 30.63                 51.15  353.2   \n",
       "4            549075.8                 30.63                 51.15  353.2   \n",
       "\n",
       "   childbirth  marriages_per_1000_cap   eurrub  deposits_value  \n",
       "0        10.8                     8.5  41.7681      10618898.0  \n",
       "1        10.8                     8.5  41.7537      10618898.0  \n",
       "2        10.8                     8.5  41.7114      10618898.0  \n",
       "3        10.8                     8.5  41.4014      10720911.0  \n",
       "4        10.8                     8.5  41.5902      10920215.0  \n",
       "\n",
       "[5 rows x 35 columns]"
      ]
     },
     "execution_count": 8,
     "metadata": {},
     "output_type": "execute_result"
    }
   ],
   "source": [
    "data.head()"
   ]
  },
  {
   "cell_type": "code",
   "execution_count": null,
   "metadata": {},
   "outputs": [],
   "source": []
  }
 ],
 "metadata": {
  "kernelspec": {
   "display_name": "Python 3",
   "language": "python",
   "name": "python3"
  },
  "language_info": {
   "codemirror_mode": {
    "name": "ipython",
    "version": 3
   },
   "file_extension": ".py",
   "mimetype": "text/x-python",
   "name": "python",
   "nbconvert_exporter": "python",
   "pygments_lexer": "ipython3",
   "version": "3.7.4"
  }
 },
 "nbformat": 4,
 "nbformat_minor": 2
}
