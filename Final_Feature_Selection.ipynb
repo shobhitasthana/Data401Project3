{
 "cells": [
  {
   "cell_type": "code",
   "execution_count": 1,
   "metadata": {},
   "outputs": [],
   "source": [
    "import pandas as pd\n",
    "import numpy as np "
   ]
  },
  {
   "cell_type": "code",
   "execution_count": 2,
   "metadata": {},
   "outputs": [],
   "source": [
    "train = pd.read_csv('train.csv')\n",
    "macro = pd.read_csv('macro.csv')"
   ]
  },
  {
   "cell_type": "markdown",
   "metadata": {},
   "source": [
    "# General Characteristics "
   ]
  },
  {
   "cell_type": "code",
   "execution_count": 3,
   "metadata": {},
   "outputs": [
    {
     "data": {
      "text/plain": [
       "(30471, 292)"
      ]
     },
     "execution_count": 3,
     "metadata": {},
     "output_type": "execute_result"
    }
   ],
   "source": [
    "train.shape"
   ]
  },
  {
   "cell_type": "code",
   "execution_count": 3,
   "metadata": {},
   "outputs": [
    {
     "data": {
      "text/plain": [
       "id                            0\n",
       "market_count_500              0\n",
       "green_part_1000               0\n",
       "prom_part_1000                0\n",
       "office_count_1000             0\n",
       "office_sqm_1000               0\n",
       "trc_count_1000                0\n",
       "trc_sqm_1000                  0\n",
       "cafe_count_1000               0\n",
       "cafe_count_1000_na_price      0\n",
       "cafe_count_1000_price_500     0\n",
       "cafe_count_1000_price_1000    0\n",
       "cafe_count_1000_price_1500    0\n",
       "cafe_count_1000_price_2500    0\n",
       "cafe_count_1000_price_4000    0\n",
       "sport_count_500               0\n",
       "cafe_count_1000_price_high    0\n",
       "church_count_1000             0\n",
       "mosque_count_1000             0\n",
       "leisure_count_1000            0\n",
       "sport_count_1000              0\n",
       "market_count_1000             0\n",
       "green_part_1500               0\n",
       "prom_part_1500                0\n",
       "office_count_1500             0\n",
       "office_sqm_1500               0\n",
       "trc_count_1500                0\n",
       "trc_sqm_1500                  0\n",
       "cafe_count_1500               0\n",
       "cafe_count_1500_na_price      0\n",
       "cafe_count_1500_price_500     0\n",
       "big_church_count_1000         0\n",
       "cafe_count_1500_price_1000    0\n",
       "leisure_count_500             0\n",
       "church_count_500              0\n",
       "public_healthcare_km          0\n",
       "university_km                 0\n",
       "workplaces_km                 0\n",
       "shopping_centers_km           0\n",
       "office_km                     0\n",
       "additional_education_km       0\n",
       "preschool_km                  0\n",
       "market_count_5000             0\n",
       "church_synagogue_km           0\n",
       "mosque_km                     0\n",
       "theater_km                    0\n",
       "museum_km                     0\n",
       "exhibition_km                 0\n",
       "catering_km                   0\n",
       "mosque_count_500              0\n",
       "dtype: int64"
      ]
     },
     "execution_count": 3,
     "metadata": {},
     "output_type": "execute_result"
    }
   ],
   "source": [
    "train.isna().sum().sort_values()[0:50]"
   ]
  },
  {
   "cell_type": "markdown",
   "metadata": {},
   "source": [
    "Features: actual home and the location (more towards the city center, it would be more expensive, judging from personal experience"
   ]
  },
  {
   "cell_type": "code",
   "execution_count": 1,
   "metadata": {},
   "outputs": [],
   "source": [
    "features_train = [\"full_sq\",\"metro_min_walk\",\"big_market_km\",\n",
    "                  \"workplaces_km\",\"university_km\",\"cafe_count_1000\",\"shopping_centers_km\",\"office_km\",\n",
    "                  \"big_church_km\",\"school_education_centers_top_20_raion\",\"build_count_after_1995\",\n",
    "                  \"cafe_count_1500_price_500\",\"market_count_500\",\"oil_chemistry_km\",\"railroad_km\",\"ts_km\",\n",
    "                  \"young_all\",\"work_male\",\"work_female\",\"ekder_all\",\"build_count_mix\",\n",
    "                  \"build_count_1971-1995\",\"build_count_1946-1970\",\"build_count_1921-1945\",\"build_count_before_1920\"]"
   ]
  },
  {
   "cell_type": "code",
   "execution_count": 5,
   "metadata": {},
   "outputs": [],
   "source": [
    "features_subset = train[features_train]"
   ]
  },
  {
   "cell_type": "code",
   "execution_count": 6,
   "metadata": {},
   "outputs": [
    {
     "data": {
      "text/plain": [
       "full_sq                                     0\n",
       "metro_min_walk                             25\n",
       "big_market_km                               0\n",
       "big_market_km                               0\n",
       "workplaces_km                               0\n",
       "university_km                               0\n",
       "cafe_count_1000                             0\n",
       "shopping_centers_km                         0\n",
       "office_km                                   0\n",
       "big_church_km                               0\n",
       "school_education_centers_top_20_raion       0\n",
       "build_count_after_1995                   4991\n",
       "cafe_count_1500_price_500                   0\n",
       "market_count_500                            0\n",
       "oil_chemistry_km                            0\n",
       "railroad_km                                 0\n",
       "ts_km                                       0\n",
       "young_all                                   0\n",
       "work_male                                   0\n",
       "work_female                                 0\n",
       "ekder_all                                   0\n",
       "build_count_mix                          4991\n",
       "build_count_1971-1995                    4991\n",
       "build_count_1946-1970                    4991\n",
       "build_count_1921-1945                    4991\n",
       "build_count_before_1920                  4991\n",
       "dtype: int64"
      ]
     },
     "execution_count": 6,
     "metadata": {},
     "output_type": "execute_result"
    }
   ],
   "source": [
    "features_subset.isna().sum()"
   ]
  },
  {
   "cell_type": "code",
   "execution_count": 7,
   "metadata": {},
   "outputs": [
    {
     "data": {
      "text/html": [
       "<div>\n",
       "<style scoped>\n",
       "    .dataframe tbody tr th:only-of-type {\n",
       "        vertical-align: middle;\n",
       "    }\n",
       "\n",
       "    .dataframe tbody tr th {\n",
       "        vertical-align: top;\n",
       "    }\n",
       "\n",
       "    .dataframe thead th {\n",
       "        text-align: right;\n",
       "    }\n",
       "</style>\n",
       "<table border=\"1\" class=\"dataframe\">\n",
       "  <thead>\n",
       "    <tr style=\"text-align: right;\">\n",
       "      <th></th>\n",
       "      <th>build_count_mix</th>\n",
       "      <th>build_count_1971-1995</th>\n",
       "      <th>build_count_1946-1970</th>\n",
       "    </tr>\n",
       "  </thead>\n",
       "  <tbody>\n",
       "    <tr>\n",
       "      <th>2042</th>\n",
       "      <td>NaN</td>\n",
       "      <td>NaN</td>\n",
       "      <td>NaN</td>\n",
       "    </tr>\n",
       "    <tr>\n",
       "      <th>2252</th>\n",
       "      <td>NaN</td>\n",
       "      <td>NaN</td>\n",
       "      <td>NaN</td>\n",
       "    </tr>\n",
       "    <tr>\n",
       "      <th>2263</th>\n",
       "      <td>NaN</td>\n",
       "      <td>NaN</td>\n",
       "      <td>NaN</td>\n",
       "    </tr>\n",
       "    <tr>\n",
       "      <th>2319</th>\n",
       "      <td>NaN</td>\n",
       "      <td>NaN</td>\n",
       "      <td>NaN</td>\n",
       "    </tr>\n",
       "    <tr>\n",
       "      <th>2715</th>\n",
       "      <td>NaN</td>\n",
       "      <td>NaN</td>\n",
       "      <td>NaN</td>\n",
       "    </tr>\n",
       "  </tbody>\n",
       "</table>\n",
       "</div>"
      ],
      "text/plain": [
       "      build_count_mix  build_count_1971-1995  build_count_1946-1970\n",
       "2042              NaN                    NaN                    NaN\n",
       "2252              NaN                    NaN                    NaN\n",
       "2263              NaN                    NaN                    NaN\n",
       "2319              NaN                    NaN                    NaN\n",
       "2715              NaN                    NaN                    NaN"
      ]
     },
     "execution_count": 7,
     "metadata": {},
     "output_type": "execute_result"
    }
   ],
   "source": [
    "features_subset[features_subset[\"build_count_mix\"].isna()][[\"build_count_mix\",\"build_count_1971-1995\",\"build_count_1946-1970\"]].head()"
   ]
  },
  {
   "cell_type": "markdown",
   "metadata": {},
   "source": [
    "The building counts for each of the type of buildng is missing for the all the same rows."
   ]
  },
  {
   "cell_type": "code",
   "execution_count": 8,
   "metadata": {},
   "outputs": [
    {
     "name": "stderr",
     "output_type": "stream",
     "text": [
      "/Library/Frameworks/Python.framework/Versions/3.6/lib/python3.6/site-packages/ipykernel_launcher.py:2: SettingWithCopyWarning: \n",
      "A value is trying to be set on a copy of a slice from a DataFrame.\n",
      "Try using .loc[row_indexer,col_indexer] = value instead\n",
      "\n",
      "See the caveats in the documentation: http://pandas.pydata.org/pandas-docs/stable/indexing.html#indexing-view-versus-copy\n",
      "  \n"
     ]
    }
   ],
   "source": [
    "# fill metro with mean\n",
    "features_subset[\"metro_min_walk\"] = features_subset[\"metro_min_walk\"].fillna(features_subset[\"metro_min_walk\"].mean())"
   ]
  },
  {
   "cell_type": "markdown",
   "metadata": {},
   "source": [
    "Random forest imputing building counts with all the other features but not the target"
   ]
  },
  {
   "cell_type": "code",
   "execution_count": 10,
   "metadata": {},
   "outputs": [],
   "source": [
    "import missingpy"
   ]
  },
  {
   "cell_type": "code",
   "execution_count": 11,
   "metadata": {},
   "outputs": [],
   "source": [
    "rf_imp = missingpy.MissForest(criterion = \"mse\")"
   ]
  },
  {
   "cell_type": "code",
   "execution_count": 12,
   "metadata": {},
   "outputs": [
    {
     "name": "stdout",
     "output_type": "stream",
     "text": [
      "Iteration: 0\n",
      "Iteration: 1\n",
      "Iteration: 2\n",
      "Iteration: 3\n",
      "Iteration: 4\n"
     ]
    }
   ],
   "source": [
    "filled_features = rf_imp.fit_transform(features_subset)"
   ]
  },
  {
   "cell_type": "code",
   "execution_count": 13,
   "metadata": {},
   "outputs": [],
   "source": [
    "data_imp = pd.DataFrame(filled_features, columns = features_subset.columns)"
   ]
  },
  {
   "cell_type": "code",
   "execution_count": 14,
   "metadata": {},
   "outputs": [],
   "source": [
    "data_imp[\"target\"] = train[\"price_doc\"]"
   ]
  },
  {
   "cell_type": "code",
   "execution_count": 15,
   "metadata": {},
   "outputs": [],
   "source": [
    "data_imp[\"timestamp\"] = train[\"timestamp\"]"
   ]
  },
  {
   "cell_type": "code",
   "execution_count": 16,
   "metadata": {},
   "outputs": [],
   "source": [
    "from sklearn.linear_model import Lasso"
   ]
  },
  {
   "cell_type": "code",
   "execution_count": 17,
   "metadata": {},
   "outputs": [
    {
     "data": {
      "text/plain": [
       "Index(['full_sq', 'metro_min_walk', 'big_market_km', 'big_market_km',\n",
       "       'workplaces_km', 'university_km', 'cafe_count_1000',\n",
       "       'shopping_centers_km', 'office_km', 'big_church_km',\n",
       "       'school_education_centers_top_20_raion', 'build_count_after_1995',\n",
       "       'cafe_count_1500_price_500', 'market_count_500', 'oil_chemistry_km',\n",
       "       'railroad_km', 'ts_km', 'young_all', 'work_male', 'work_female',\n",
       "       'ekder_all', 'build_count_mix', 'build_count_1971-1995',\n",
       "       'build_count_1946-1970', 'build_count_1921-1945',\n",
       "       'build_count_before_1920', 'target', 'timestamp'],\n",
       "      dtype='object')"
      ]
     },
     "execution_count": 17,
     "metadata": {},
     "output_type": "execute_result"
    }
   ],
   "source": [
    "data_imp.columns"
   ]
  },
  {
   "cell_type": "code",
   "execution_count": 18,
   "metadata": {},
   "outputs": [
    {
     "name": "stderr",
     "output_type": "stream",
     "text": [
      "/Library/Frameworks/Python.framework/Versions/3.6/lib/python3.6/site-packages/sklearn/linear_model/coordinate_descent.py:475: ConvergenceWarning: Objective did not converge. You might want to increase the number of iterations. Duality gap: 1.3678011195817997e+17, tolerance: 69622317794293.57\n",
      "  positive)\n"
     ]
    }
   ],
   "source": [
    "l_feat = Lasso(alpha = .4)\n",
    "l_feat.fit(data_imp.drop([\"timestamp\",\"target\"], axis = 1),data_imp[\"target\"])\n",
    "coefs = l_feat.coef_"
   ]
  },
  {
   "cell_type": "code",
   "execution_count": 19,
   "metadata": {},
   "outputs": [
    {
     "data": {
      "text/plain": [
       "['full_sq',\n",
       " 'metro_min_walk',\n",
       " 'big_market_km',\n",
       " 'big_market_km',\n",
       " 'workplaces_km',\n",
       " 'university_km',\n",
       " 'cafe_count_1000',\n",
       " 'shopping_centers_km',\n",
       " 'office_km',\n",
       " 'big_church_km',\n",
       " 'school_education_centers_top_20_raion',\n",
       " 'build_count_after_1995',\n",
       " 'cafe_count_1500_price_500',\n",
       " 'market_count_500',\n",
       " 'oil_chemistry_km',\n",
       " 'railroad_km',\n",
       " 'ts_km',\n",
       " 'young_all',\n",
       " 'work_male',\n",
       " 'work_female',\n",
       " 'ekder_all',\n",
       " 'build_count_mix',\n",
       " 'build_count_1971-1995',\n",
       " 'build_count_1946-1970',\n",
       " 'build_count_1921-1945',\n",
       " 'build_count_before_1920']"
      ]
     },
     "execution_count": 19,
     "metadata": {},
     "output_type": "execute_result"
    }
   ],
   "source": [
    "selected_features = []\n",
    "cols = data_imp.drop([\"timestamp\",\"target\"], axis = 1).columns\n",
    "for i in range(len(coefs)):\n",
    "    if coefs[i] != 0:\n",
    "        selected_features.append(cols[i])\n",
    "selected_features"
   ]
  },
  {
   "cell_type": "code",
   "execution_count": 20,
   "metadata": {},
   "outputs": [],
   "source": [
    "subset_feature = data_imp[selected_features]"
   ]
  },
  {
   "cell_type": "code",
   "execution_count": 21,
   "metadata": {},
   "outputs": [
    {
     "name": "stderr",
     "output_type": "stream",
     "text": [
      "/Library/Frameworks/Python.framework/Versions/3.6/lib/python3.6/site-packages/ipykernel_launcher.py:1: SettingWithCopyWarning: \n",
      "A value is trying to be set on a copy of a slice from a DataFrame.\n",
      "Try using .loc[row_indexer,col_indexer] = value instead\n",
      "\n",
      "See the caveats in the documentation: http://pandas.pydata.org/pandas-docs/stable/indexing.html#indexing-view-versus-copy\n",
      "  \"\"\"Entry point for launching an IPython kernel.\n",
      "/Library/Frameworks/Python.framework/Versions/3.6/lib/python3.6/site-packages/ipykernel_launcher.py:2: SettingWithCopyWarning: \n",
      "A value is trying to be set on a copy of a slice from a DataFrame.\n",
      "Try using .loc[row_indexer,col_indexer] = value instead\n",
      "\n",
      "See the caveats in the documentation: http://pandas.pydata.org/pandas-docs/stable/indexing.html#indexing-view-versus-copy\n",
      "  \n"
     ]
    }
   ],
   "source": [
    "subset_feature[\"target\"] = data_imp[\"target\"]\n",
    "subset_feature[\"timestamp\"] = data_imp[\"timestamp\"]"
   ]
  },
  {
   "cell_type": "markdown",
   "metadata": {},
   "source": [
    "# Macro Economic Characteristics"
   ]
  },
  {
   "cell_type": "code",
   "execution_count": 22,
   "metadata": {},
   "outputs": [
    {
     "data": {
      "text/plain": [
       "timestamp            50.2\n",
       "oil_urals           45.71\n",
       "gdp_quart            38.4\n",
       "gdp_quart_growth    29.78\n",
       "cpi                   NaN\n",
       "Name: 2484, dtype: object"
      ]
     },
     "execution_count": 22,
     "metadata": {},
     "output_type": "execute_result"
    }
   ],
   "source": [
    "macro.iloc[2484,:].head()"
   ]
  },
  {
   "cell_type": "markdown",
   "metadata": {},
   "source": [
    "one of the timestamps is 50.2 so we will remove this row"
   ]
  },
  {
   "cell_type": "code",
   "execution_count": 23,
   "metadata": {},
   "outputs": [],
   "source": [
    "macro.drop(index = 2484, inplace = True)"
   ]
  },
  {
   "cell_type": "code",
   "execution_count": 24,
   "metadata": {},
   "outputs": [],
   "source": [
    "macro[\"timestamp\"] = pd.to_datetime(macro[\"timestamp\"])"
   ]
  },
  {
   "cell_type": "code",
   "execution_count": 25,
   "metadata": {},
   "outputs": [
    {
     "data": {
      "text/plain": [
       "(2484, 100)"
      ]
     },
     "execution_count": 25,
     "metadata": {},
     "output_type": "execute_result"
    }
   ],
   "source": [
    "macro.shape"
   ]
  },
  {
   "cell_type": "code",
   "execution_count": 26,
   "metadata": {},
   "outputs": [
    {
     "data": {
      "text/plain": [
       "timestamp                                    0\n",
       "oil_urals                                    0\n",
       "fixed_basket                                 0\n",
       "mortgage_rate                                0\n",
       "mortgage_value                               0\n",
       "deposits_value                               0\n",
       "average_provision_of_build_contract          0\n",
       "gdp_annual                                   0\n",
       "gdp_annual_growth                            0\n",
       "micex_cbi_tr                                 1\n",
       "usdrub                                       3\n",
       "eurrub                                       3\n",
       "brent                                        3\n",
       "micex                                       10\n",
       "rts                                         10\n",
       "micex_rgbi_tr                               10\n",
       "balance_trade                               31\n",
       "ppi                                         31\n",
       "deposits_growth                             31\n",
       "cpi                                         31\n",
       "balance_trade_growth                        90\n",
       "gdp_quart                                   90\n",
       "gdp_quart_growth                            90\n",
       "rent_price_3room_bus                       273\n",
       "rent_price_1room_eco                       273\n",
       "rent_price_2room_eco                       273\n",
       "rent_price_3room_eco                       273\n",
       "rent_price_1room_bus                       273\n",
       "rent_price_2room_bus                       273\n",
       "rent_price_4+room_bus                      273\n",
       "                                          ... \n",
       "unprofitable_enterpr_share                 658\n",
       "share_own_revenues                         658\n",
       "electric_stove_share                       658\n",
       "overdue_wages_per_cap                      658\n",
       "fin_res_per_cap                            658\n",
       "marriages_per_1000_cap                     658\n",
       "apartment_fund_sqm                         658\n",
       "apartment_build                            658\n",
       "invest_fixed_assets_phys                   658\n",
       "pop_migration                              658\n",
       "pop_total_inc                              658\n",
       "housing_fund_sqm                           658\n",
       "lodging_sqm_per_cap                        658\n",
       "water_pipes_share                          658\n",
       "baths_share                                658\n",
       "divorce_rate                               658\n",
       "gas_share                                  658\n",
       "sewerage_share                             658\n",
       "load_of_teachers_preschool_per_teacher    1023\n",
       "students_reg_sports_share                 1023\n",
       "population_reg_sports_share               1023\n",
       "museum_visitis_per_100_cap                1023\n",
       "grp_growth                                1023\n",
       "hospital_bed_occupancy_per_year           1023\n",
       "hospital_beds_available_per_cap           1023\n",
       "theaters_viewers_per_1000_cap             1023\n",
       "modern_education_share                    1389\n",
       "old_education_build_share                 1389\n",
       "provision_retail_space_sqm                1753\n",
       "provision_retail_space_modern_sqm         1754\n",
       "Length: 100, dtype: int64"
      ]
     },
     "execution_count": 26,
     "metadata": {},
     "output_type": "execute_result"
    }
   ],
   "source": [
    "macro.isna().sum().sort_values()"
   ]
  },
  {
   "cell_type": "code",
   "execution_count": 28,
   "metadata": {},
   "outputs": [],
   "source": [
    "macro_train = [\"timestamp\",\"unemployment\",\"salary\",\"construction_value\",\"rent_price_1room_eco\",\"rent_price_1room_bus\",\n",
    "               \"cpi\",\"childbirth\",\"marriages_per_1000_cap\",\"eurrub\",\"deposits_value\"]"
   ]
  },
  {
   "cell_type": "code",
   "execution_count": 29,
   "metadata": {},
   "outputs": [
    {
     "data": {
      "text/plain": [
       "11"
      ]
     },
     "execution_count": 29,
     "metadata": {},
     "output_type": "execute_result"
    }
   ],
   "source": [
    "len(macro_train)"
   ]
  },
  {
   "cell_type": "code",
   "execution_count": 30,
   "metadata": {},
   "outputs": [],
   "source": [
    "macro_subset = macro[macro_train]"
   ]
  },
  {
   "cell_type": "code",
   "execution_count": 31,
   "metadata": {},
   "outputs": [
    {
     "data": {
      "text/plain": [
       "timestamp                   0\n",
       "unemployment              293\n",
       "salary                    293\n",
       "construction_value        658\n",
       "rent_price_1room_eco      273\n",
       "rent_price_1room_bus      273\n",
       "cpi                        31\n",
       "childbirth                293\n",
       "marriages_per_1000_cap    658\n",
       "eurrub                      3\n",
       "deposits_value              0\n",
       "dtype: int64"
      ]
     },
     "execution_count": 31,
     "metadata": {},
     "output_type": "execute_result"
    }
   ],
   "source": [
    "macro_subset.isna().sum()"
   ]
  },
  {
   "cell_type": "code",
   "execution_count": 32,
   "metadata": {},
   "outputs": [],
   "source": [
    "macro_subset.set_index(\"timestamp\", inplace = True)"
   ]
  },
  {
   "cell_type": "code",
   "execution_count": 33,
   "metadata": {},
   "outputs": [
    {
     "data": {
      "text/plain": [
       "unemployment              float64\n",
       "salary                    float64\n",
       "construction_value        float64\n",
       "rent_price_1room_eco      float64\n",
       "rent_price_1room_bus      float64\n",
       "cpi                       float64\n",
       "childbirth                float64\n",
       "marriages_per_1000_cap    float64\n",
       "eurrub                    float64\n",
       "deposits_value            float64\n",
       "dtype: object"
      ]
     },
     "execution_count": 33,
     "metadata": {},
     "output_type": "execute_result"
    }
   ],
   "source": [
    "macro_subset.dtypes"
   ]
  },
  {
   "cell_type": "markdown",
   "metadata": {},
   "source": [
    "Imputing NA values for time series: https://medium.com/@drnesr/filling-gaps-of-a-time-series-using-python-d4bfddd8c460"
   ]
  },
  {
   "cell_type": "code",
   "execution_count": 34,
   "metadata": {},
   "outputs": [],
   "source": [
    "macro_filled = macro_subset.interpolate(method = \"time\")"
   ]
  },
  {
   "cell_type": "code",
   "execution_count": 35,
   "metadata": {},
   "outputs": [
    {
     "data": {
      "text/plain": [
       "unemployment                0\n",
       "salary                      0\n",
       "construction_value          0\n",
       "rent_price_1room_eco      273\n",
       "rent_price_1room_bus      273\n",
       "cpi                        31\n",
       "childbirth                  0\n",
       "marriages_per_1000_cap      0\n",
       "eurrub                      3\n",
       "deposits_value              0\n",
       "dtype: int64"
      ]
     },
     "execution_count": 35,
     "metadata": {},
     "output_type": "execute_result"
    }
   ],
   "source": [
    "macro_filled.isna().sum()"
   ]
  },
  {
   "cell_type": "markdown",
   "metadata": {},
   "source": [
    "Some NA values remain mostly due to them being at the beginning of the dataset, so there is no trend to begin interpolating on. As such, we will simply backfill them."
   ]
  },
  {
   "cell_type": "code",
   "execution_count": 36,
   "metadata": {},
   "outputs": [],
   "source": [
    "macro_filled.fillna(method = \"bfill\", inplace = True)"
   ]
  },
  {
   "cell_type": "code",
   "execution_count": 37,
   "metadata": {},
   "outputs": [
    {
     "data": {
      "text/plain": [
       "unemployment              0\n",
       "salary                    0\n",
       "construction_value        0\n",
       "rent_price_1room_eco      0\n",
       "rent_price_1room_bus      0\n",
       "cpi                       0\n",
       "childbirth                0\n",
       "marriages_per_1000_cap    0\n",
       "eurrub                    0\n",
       "deposits_value            0\n",
       "dtype: int64"
      ]
     },
     "execution_count": 37,
     "metadata": {},
     "output_type": "execute_result"
    }
   ],
   "source": [
    "macro_filled.isna().sum()"
   ]
  },
  {
   "cell_type": "code",
   "execution_count": 38,
   "metadata": {},
   "outputs": [],
   "source": [
    "macro_filled.reset_index(inplace = True)"
   ]
  },
  {
   "cell_type": "code",
   "execution_count": 39,
   "metadata": {},
   "outputs": [
    {
     "data": {
      "text/html": [
       "<div>\n",
       "<style scoped>\n",
       "    .dataframe tbody tr th:only-of-type {\n",
       "        vertical-align: middle;\n",
       "    }\n",
       "\n",
       "    .dataframe tbody tr th {\n",
       "        vertical-align: top;\n",
       "    }\n",
       "\n",
       "    .dataframe thead th {\n",
       "        text-align: right;\n",
       "    }\n",
       "</style>\n",
       "<table border=\"1\" class=\"dataframe\">\n",
       "  <thead>\n",
       "    <tr style=\"text-align: right;\">\n",
       "      <th></th>\n",
       "      <th>timestamp</th>\n",
       "      <th>unemployment</th>\n",
       "      <th>salary</th>\n",
       "      <th>construction_value</th>\n",
       "      <th>rent_price_1room_eco</th>\n",
       "      <th>rent_price_1room_bus</th>\n",
       "      <th>cpi</th>\n",
       "      <th>childbirth</th>\n",
       "      <th>marriages_per_1000_cap</th>\n",
       "      <th>eurrub</th>\n",
       "      <th>deposits_value</th>\n",
       "    </tr>\n",
       "  </thead>\n",
       "  <tbody>\n",
       "    <tr>\n",
       "      <th>0</th>\n",
       "      <td>2010-01-01</td>\n",
       "      <td>0.018</td>\n",
       "      <td>38410.5</td>\n",
       "      <td>553874.9</td>\n",
       "      <td>27.58</td>\n",
       "      <td>45.44</td>\n",
       "      <td>315.1</td>\n",
       "      <td>10.7</td>\n",
       "      <td>8.0</td>\n",
       "      <td>43.4054</td>\n",
       "      <td>7484970.0</td>\n",
       "    </tr>\n",
       "    <tr>\n",
       "      <th>1</th>\n",
       "      <td>2010-01-02</td>\n",
       "      <td>0.018</td>\n",
       "      <td>38410.5</td>\n",
       "      <td>553874.9</td>\n",
       "      <td>27.58</td>\n",
       "      <td>45.44</td>\n",
       "      <td>315.1</td>\n",
       "      <td>10.7</td>\n",
       "      <td>8.0</td>\n",
       "      <td>43.4054</td>\n",
       "      <td>7484970.0</td>\n",
       "    </tr>\n",
       "    <tr>\n",
       "      <th>2</th>\n",
       "      <td>2010-01-03</td>\n",
       "      <td>0.018</td>\n",
       "      <td>38410.5</td>\n",
       "      <td>553874.9</td>\n",
       "      <td>27.58</td>\n",
       "      <td>45.44</td>\n",
       "      <td>315.1</td>\n",
       "      <td>10.7</td>\n",
       "      <td>8.0</td>\n",
       "      <td>43.4054</td>\n",
       "      <td>7484970.0</td>\n",
       "    </tr>\n",
       "    <tr>\n",
       "      <th>3</th>\n",
       "      <td>2010-01-04</td>\n",
       "      <td>0.018</td>\n",
       "      <td>38410.5</td>\n",
       "      <td>553874.9</td>\n",
       "      <td>27.58</td>\n",
       "      <td>45.44</td>\n",
       "      <td>315.1</td>\n",
       "      <td>10.7</td>\n",
       "      <td>8.0</td>\n",
       "      <td>43.4054</td>\n",
       "      <td>7484970.0</td>\n",
       "    </tr>\n",
       "    <tr>\n",
       "      <th>4</th>\n",
       "      <td>2010-01-05</td>\n",
       "      <td>0.018</td>\n",
       "      <td>38410.5</td>\n",
       "      <td>553874.9</td>\n",
       "      <td>27.58</td>\n",
       "      <td>45.44</td>\n",
       "      <td>315.1</td>\n",
       "      <td>10.7</td>\n",
       "      <td>8.0</td>\n",
       "      <td>42.9600</td>\n",
       "      <td>7484970.0</td>\n",
       "    </tr>\n",
       "  </tbody>\n",
       "</table>\n",
       "</div>"
      ],
      "text/plain": [
       "   timestamp  unemployment   salary  construction_value  rent_price_1room_eco  \\\n",
       "0 2010-01-01         0.018  38410.5            553874.9                 27.58   \n",
       "1 2010-01-02         0.018  38410.5            553874.9                 27.58   \n",
       "2 2010-01-03         0.018  38410.5            553874.9                 27.58   \n",
       "3 2010-01-04         0.018  38410.5            553874.9                 27.58   \n",
       "4 2010-01-05         0.018  38410.5            553874.9                 27.58   \n",
       "\n",
       "   rent_price_1room_bus    cpi  childbirth  marriages_per_1000_cap   eurrub  \\\n",
       "0                 45.44  315.1        10.7                     8.0  43.4054   \n",
       "1                 45.44  315.1        10.7                     8.0  43.4054   \n",
       "2                 45.44  315.1        10.7                     8.0  43.4054   \n",
       "3                 45.44  315.1        10.7                     8.0  43.4054   \n",
       "4                 45.44  315.1        10.7                     8.0  42.9600   \n",
       "\n",
       "   deposits_value  \n",
       "0       7484970.0  \n",
       "1       7484970.0  \n",
       "2       7484970.0  \n",
       "3       7484970.0  \n",
       "4       7484970.0  "
      ]
     },
     "execution_count": 39,
     "metadata": {},
     "output_type": "execute_result"
    }
   ],
   "source": [
    "macro_filled.head()"
   ]
  },
  {
   "cell_type": "code",
   "execution_count": 40,
   "metadata": {},
   "outputs": [
    {
     "name": "stderr",
     "output_type": "stream",
     "text": [
      "/Library/Frameworks/Python.framework/Versions/3.6/lib/python3.6/site-packages/ipykernel_launcher.py:1: SettingWithCopyWarning: \n",
      "A value is trying to be set on a copy of a slice from a DataFrame.\n",
      "Try using .loc[row_indexer,col_indexer] = value instead\n",
      "\n",
      "See the caveats in the documentation: http://pandas.pydata.org/pandas-docs/stable/indexing.html#indexing-view-versus-copy\n",
      "  \"\"\"Entry point for launching an IPython kernel.\n"
     ]
    }
   ],
   "source": [
    "subset_feature[\"timestamp\"] = pd.to_datetime(subset_feature[\"timestamp\"])"
   ]
  },
  {
   "cell_type": "code",
   "execution_count": 41,
   "metadata": {},
   "outputs": [
    {
     "name": "stdout",
     "output_type": "stream",
     "text": [
      "(30471, 40)\n"
     ]
    },
    {
     "data": {
      "text/html": [
       "<div>\n",
       "<style scoped>\n",
       "    .dataframe tbody tr th:only-of-type {\n",
       "        vertical-align: middle;\n",
       "    }\n",
       "\n",
       "    .dataframe tbody tr th {\n",
       "        vertical-align: top;\n",
       "    }\n",
       "\n",
       "    .dataframe thead th {\n",
       "        text-align: right;\n",
       "    }\n",
       "</style>\n",
       "<table border=\"1\" class=\"dataframe\">\n",
       "  <thead>\n",
       "    <tr style=\"text-align: right;\">\n",
       "      <th></th>\n",
       "      <th>full_sq</th>\n",
       "      <th>metro_min_walk</th>\n",
       "      <th>big_market_km</th>\n",
       "      <th>big_market_km</th>\n",
       "      <th>big_market_km</th>\n",
       "      <th>big_market_km</th>\n",
       "      <th>workplaces_km</th>\n",
       "      <th>university_km</th>\n",
       "      <th>cafe_count_1000</th>\n",
       "      <th>shopping_centers_km</th>\n",
       "      <th>...</th>\n",
       "      <th>unemployment</th>\n",
       "      <th>salary</th>\n",
       "      <th>construction_value</th>\n",
       "      <th>rent_price_1room_eco</th>\n",
       "      <th>rent_price_1room_bus</th>\n",
       "      <th>cpi</th>\n",
       "      <th>childbirth</th>\n",
       "      <th>marriages_per_1000_cap</th>\n",
       "      <th>eurrub</th>\n",
       "      <th>deposits_value</th>\n",
       "    </tr>\n",
       "  </thead>\n",
       "  <tbody>\n",
       "    <tr>\n",
       "      <th>0</th>\n",
       "      <td>43.0</td>\n",
       "      <td>13.575119</td>\n",
       "      <td>10.814172</td>\n",
       "      <td>10.814172</td>\n",
       "      <td>10.814172</td>\n",
       "      <td>10.814172</td>\n",
       "      <td>0.884350</td>\n",
       "      <td>6.715026</td>\n",
       "      <td>19.0</td>\n",
       "      <td>0.648488</td>\n",
       "      <td>...</td>\n",
       "      <td>0.014</td>\n",
       "      <td>44898.7</td>\n",
       "      <td>549075.8</td>\n",
       "      <td>29.07</td>\n",
       "      <td>47.85</td>\n",
       "      <td>354.0</td>\n",
       "      <td>10.8</td>\n",
       "      <td>8.5</td>\n",
       "      <td>41.7681</td>\n",
       "      <td>10618898.0</td>\n",
       "    </tr>\n",
       "    <tr>\n",
       "      <th>1</th>\n",
       "      <td>34.0</td>\n",
       "      <td>7.620630</td>\n",
       "      <td>6.910568</td>\n",
       "      <td>6.910568</td>\n",
       "      <td>6.910568</td>\n",
       "      <td>6.910568</td>\n",
       "      <td>0.686252</td>\n",
       "      <td>1.852560</td>\n",
       "      <td>13.0</td>\n",
       "      <td>0.519311</td>\n",
       "      <td>...</td>\n",
       "      <td>0.014</td>\n",
       "      <td>44898.7</td>\n",
       "      <td>549075.8</td>\n",
       "      <td>29.07</td>\n",
       "      <td>47.85</td>\n",
       "      <td>354.0</td>\n",
       "      <td>10.8</td>\n",
       "      <td>8.5</td>\n",
       "      <td>41.7537</td>\n",
       "      <td>10618898.0</td>\n",
       "    </tr>\n",
       "    <tr>\n",
       "      <th>2</th>\n",
       "      <td>43.0</td>\n",
       "      <td>17.351515</td>\n",
       "      <td>5.752368</td>\n",
       "      <td>5.752368</td>\n",
       "      <td>5.752368</td>\n",
       "      <td>5.752368</td>\n",
       "      <td>1.510089</td>\n",
       "      <td>0.841254</td>\n",
       "      <td>9.0</td>\n",
       "      <td>1.486533</td>\n",
       "      <td>...</td>\n",
       "      <td>0.014</td>\n",
       "      <td>44898.7</td>\n",
       "      <td>549075.8</td>\n",
       "      <td>29.07</td>\n",
       "      <td>47.85</td>\n",
       "      <td>354.0</td>\n",
       "      <td>10.8</td>\n",
       "      <td>8.5</td>\n",
       "      <td>41.7114</td>\n",
       "      <td>10618898.0</td>\n",
       "    </tr>\n",
       "    <tr>\n",
       "      <th>3</th>\n",
       "      <td>89.0</td>\n",
       "      <td>11.565624</td>\n",
       "      <td>27.892717</td>\n",
       "      <td>27.892717</td>\n",
       "      <td>27.892717</td>\n",
       "      <td>27.892717</td>\n",
       "      <td>0.622272</td>\n",
       "      <td>10.903161</td>\n",
       "      <td>12.0</td>\n",
       "      <td>0.599914</td>\n",
       "      <td>...</td>\n",
       "      <td>0.014</td>\n",
       "      <td>44898.7</td>\n",
       "      <td>549075.8</td>\n",
       "      <td>30.63</td>\n",
       "      <td>51.15</td>\n",
       "      <td>353.2</td>\n",
       "      <td>10.8</td>\n",
       "      <td>8.5</td>\n",
       "      <td>41.4014</td>\n",
       "      <td>10720911.0</td>\n",
       "    </tr>\n",
       "    <tr>\n",
       "      <th>4</th>\n",
       "      <td>77.0</td>\n",
       "      <td>8.266305</td>\n",
       "      <td>9.155057</td>\n",
       "      <td>9.155057</td>\n",
       "      <td>9.155057</td>\n",
       "      <td>9.155057</td>\n",
       "      <td>0.892668</td>\n",
       "      <td>0.991683</td>\n",
       "      <td>153.0</td>\n",
       "      <td>0.429052</td>\n",
       "      <td>...</td>\n",
       "      <td>0.014</td>\n",
       "      <td>44898.7</td>\n",
       "      <td>549075.8</td>\n",
       "      <td>30.63</td>\n",
       "      <td>51.15</td>\n",
       "      <td>353.2</td>\n",
       "      <td>10.8</td>\n",
       "      <td>8.5</td>\n",
       "      <td>41.5902</td>\n",
       "      <td>10920215.0</td>\n",
       "    </tr>\n",
       "  </tbody>\n",
       "</table>\n",
       "<p>5 rows × 40 columns</p>\n",
       "</div>"
      ],
      "text/plain": [
       "   full_sq  metro_min_walk  big_market_km  big_market_km  big_market_km  \\\n",
       "0     43.0       13.575119      10.814172      10.814172      10.814172   \n",
       "1     34.0        7.620630       6.910568       6.910568       6.910568   \n",
       "2     43.0       17.351515       5.752368       5.752368       5.752368   \n",
       "3     89.0       11.565624      27.892717      27.892717      27.892717   \n",
       "4     77.0        8.266305       9.155057       9.155057       9.155057   \n",
       "\n",
       "   big_market_km  workplaces_km  university_km  cafe_count_1000  \\\n",
       "0      10.814172       0.884350       6.715026             19.0   \n",
       "1       6.910568       0.686252       1.852560             13.0   \n",
       "2       5.752368       1.510089       0.841254              9.0   \n",
       "3      27.892717       0.622272      10.903161             12.0   \n",
       "4       9.155057       0.892668       0.991683            153.0   \n",
       "\n",
       "   shopping_centers_km  ...  unemployment   salary  construction_value  \\\n",
       "0             0.648488  ...         0.014  44898.7            549075.8   \n",
       "1             0.519311  ...         0.014  44898.7            549075.8   \n",
       "2             1.486533  ...         0.014  44898.7            549075.8   \n",
       "3             0.599914  ...         0.014  44898.7            549075.8   \n",
       "4             0.429052  ...         0.014  44898.7            549075.8   \n",
       "\n",
       "   rent_price_1room_eco  rent_price_1room_bus    cpi  childbirth  \\\n",
       "0                 29.07                 47.85  354.0        10.8   \n",
       "1                 29.07                 47.85  354.0        10.8   \n",
       "2                 29.07                 47.85  354.0        10.8   \n",
       "3                 30.63                 51.15  353.2        10.8   \n",
       "4                 30.63                 51.15  353.2        10.8   \n",
       "\n",
       "   marriages_per_1000_cap   eurrub  deposits_value  \n",
       "0                     8.5  41.7681      10618898.0  \n",
       "1                     8.5  41.7537      10618898.0  \n",
       "2                     8.5  41.7114      10618898.0  \n",
       "3                     8.5  41.4014      10720911.0  \n",
       "4                     8.5  41.5902      10920215.0  \n",
       "\n",
       "[5 rows x 40 columns]"
      ]
     },
     "execution_count": 41,
     "metadata": {},
     "output_type": "execute_result"
    }
   ],
   "source": [
    "merged = subset_feature.merge(macro_filled, on='timestamp', how='left')\n",
    "print(merged.shape)\n",
    "merged.head()"
   ]
  },
  {
   "cell_type": "code",
   "execution_count": 42,
   "metadata": {},
   "outputs": [],
   "source": [
    "merged.to_csv(\"final_NN_feat.csv\")"
   ]
  },
  {
   "cell_type": "code",
   "execution_count": 50,
   "metadata": {},
   "outputs": [],
   "source": [
    "train_labels = pd.DataFrame(train['price_doc'])"
   ]
  },
  {
   "cell_type": "code",
   "execution_count": 53,
   "metadata": {},
   "outputs": [],
   "source": [
    "train_labels.iloc[1:,].to_csv('training_labels.csv')"
   ]
  }
 ],
 "metadata": {
  "kernelspec": {
   "display_name": "Python 3",
   "language": "python",
   "name": "python3"
  },
  "language_info": {
   "codemirror_mode": {
    "name": "ipython",
    "version": 3
   },
   "file_extension": ".py",
   "mimetype": "text/x-python",
   "name": "python",
   "nbconvert_exporter": "python",
   "pygments_lexer": "ipython3",
   "version": "3.7.3"
  }
 },
 "nbformat": 4,
 "nbformat_minor": 4
}
