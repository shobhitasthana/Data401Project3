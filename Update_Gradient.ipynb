{
 "cells": [
  {
   "cell_type": "code",
   "execution_count": 6,
   "metadata": {},
   "outputs": [],
   "source": [
    "import numpy as np\n",
    "import pandas as pd"
   ]
  },
  {
   "cell_type": "code",
   "execution_count": 362,
   "metadata": {},
   "outputs": [],
   "source": [
    "import pandas as pd\n",
    "import numpy as np \n",
    "\n",
    "\n",
    "class NeuralNetwork:\n",
    "    \"\"\"\n",
    "    Layers: an Integer value representing the total number of hidden layers in the network (input and output layers are extra)\n",
    "    Nodes: an integer array of size [0,..,Layers+1] containing the dimensions of the neural network. \n",
    "    Nodes[0] shall represent the input size (typically, 50), Nodes[Layers+1] shall represent the number of output nodes (typically, 1). \n",
    "    All other values Nodes[i] represent the number of nodes in hidden layer i.\n",
    "\n",
    "    NNodes: a possible alternative to the Nodes parameter for situations where you want each hidden layer of the neural network to be of the same size. \n",
    "    In this case, the size of the output layer is assumed to be 1, and the size of the input layer can be inferred from the dataset.\n",
    "\n",
    "    Activations: an array of size [0,..,Layers+1] (for the sake of compatibility) in which Activations[0] and Activations[Layers+1] are not used, while all other Activations[i] values are labels indicating the activation function used in layer i. \n",
    "    This allows you to build neural networks with different activation functions in each layer.\n",
    "    \"\"\"\n",
    "    def __init__(self,Nodes,Activations):\n",
    "\n",
    "\n",
    "\n",
    "        self.Layers = len(Nodes) - 2\n",
    "        self.Nodes = Nodes\n",
    "        self.Activations = Activations\n",
    "        self.parameter_dict ={}\n",
    "        self.rate = 0.1\n",
    "\n",
    "    def initialize_net(self):\n",
    "        '''\n",
    "        parameter dict format:\n",
    "        layer: {w,h,z,delta, activation}\n",
    "        '''\n",
    "        parameter_dict = {k: {'w':0, 'h':0, 'z':0, 'delta':0, 'activation':0, 'gradient':0} for k in range(len(self.Nodes))}\n",
    "        for i in range(1,len(self.Nodes)):\n",
    "            # add the intercept\n",
    "            bias = 1\n",
    "            \n",
    "            h = np.matrix(np.append(1,np.random.randn(self.Nodes[i])))\n",
    "            w = np.matrix(np.random.randn((self.Nodes[i-1]+1),(self.Nodes[i]+1)))\n",
    "            z = np.matrix(np.zeros(self.Nodes[i]+1))\n",
    "            delta = np.matrix(np.random.randn(self.Nodes[i]+1))\n",
    "            gradient = np.matrix(np.zeros((self.Nodes[i-1]+1,self.Nodes[i]+1)))\n",
    "            \n",
    "#             h = np.matrix(np.random.randn(self.Nodes[i]))\n",
    "#             w = np.matrix(np.random.randn((self.Nodes[i-1]),(self.Nodes[i])))\n",
    "#             z = np.matrix(np.zeros(self.Nodes[i]))\n",
    "#             delta = np.matrix(np.random.randn(self.Nodes[i]))\n",
    "#             gradient = np.matrix(np.zeros((self.Nodes[i-1],self.Nodes[i])))\n",
    "            \n",
    "            activation = self.Activations[i-1]\n",
    "\n",
    "            parameter_dict[i] = {'w':w, 'h':h, 'z':z, 'delta':delta, 'activation':activation, 'gradient':gradient}\n",
    "        parameter_dict['y_hat'] = np.random.randint(100000,size =1)[0]\n",
    "        self.parameter_dict = parameter_dict\n",
    "        return parameter_dict\n",
    "    \n",
    "    def activate(self, z,activation='relu'):\n",
    "        if activation =='relu':\n",
    "            if z > 0:\n",
    "                return z\n",
    "            else:\n",
    "                return 0\n",
    "        if activation == 'sigmoid':\n",
    "            return (1/(1+np.e** -z))\n",
    "        \n",
    "    def activate_prime(self, z, activation='relu'):\n",
    "        if activation == 'relu':\n",
    "            if z > 0:\n",
    "                return 1\n",
    "            return 0\n",
    "        \n",
    "    def forward_propogate(self,data):\n",
    "        '''\n",
    "        Assume data is an np.matrix with shape (1,n)\n",
    "        '''\n",
    "        self.parameter_dict[0]['h'] = data\n",
    "        for l in range(1, self.Layers + 1):\n",
    "            self.parameter_dict[l]['z'] = np.dot()\n",
    "#         new = {}\n",
    "#         new['z'] = []\n",
    "#         new['h'] = []\n",
    "#         for i in len(self.Nodes-1):\n",
    "#             #new z value calculated by multiplying node weights and adding bias \n",
    "#             new['z'].append(np.matmul(self.parameter_dict[i][1],self.parameter_dict[i+1][0][1:,1:]) + self.parameter_dict[i][0][0][0])\n",
    "#             new['h'].append(activate(newz,self.Activations[i]))\n",
    "#         return new"
   ]
  },
  {
   "cell_type": "code",
   "execution_count": 363,
   "metadata": {},
   "outputs": [],
   "source": [
    "nodes = [3,2,2,1]\n",
    "activation = ['relu','relu','relu','relu']\n",
    "layers = len(nodes) - 1\n",
    "net = NeuralNetwork(nodes,activation)"
   ]
  },
  {
   "cell_type": "code",
   "execution_count": 364,
   "metadata": {},
   "outputs": [],
   "source": [
    "net.initialize_net()\n",
    "net.rate\n",
    "data = np.matrix(np.append(1,np.random.randn(nodes[0])))\n",
    "net.parameter_dict[0] = {'h':data}"
   ]
  },
  {
   "cell_type": "code",
   "execution_count": 319,
   "metadata": {},
   "outputs": [],
   "source": [
    "data = np.matrix([1,-2,2])\n",
    "net.parameter_dict[0]['h'] = data\n",
    "net.parameter_dict[1]['w'] = np.matrix([[3.,1],[2,0],[1,-1]])\n",
    "net.parameter_dict[2]['w'] = np.matrix([[-2.,4],[0,-3]])\n",
    "net.parameter_dict[3]['w'] = np.matrix([[5.,2]])\n",
    "net.parameter_dict[1]['z'] = np.matrix([1.,-1])\n",
    "net.parameter_dict[2]['z'] = np.matrix([-2.,4])\n",
    "net.parameter_dict[1]['h'] = np.matrix(np.apply_along_axis(net.activate, 0, net.parameter_dict[1]['z']))\n",
    "net.parameter_dict[2]['h'] = np.matrix(np.apply_along_axis(net.activate, 0, net.parameter_dict[2]['z']))\n",
    "net.parameter_dict[3]['delta'] = np.array([5.]).reshape((1,1))\n",
    "w3 = net.parameter_dict[3]['w']\n",
    "z2 = net.parameter_dict[2]['z']\n",
    "d3 = net.parameter_dict[3]['delta']\n",
    "net.parameter_dict[2]['delta'] = np.dot(d3,np.dot(w3, np.diag(np.apply_along_axis(net.activate_prime, 0, z2))))\n",
    "d2 = net.parameter_dict[2]['delta']\n",
    "w2 = net.parameter_dict[2]['w']\n",
    "z1 = net.parameter_dict[1]['z']\n",
    "net.parameter_dict[1]['delta'] = np.dot(d2, np.dot(w2.T, np.diag(np.apply_along_axis(net.activate_prime, 0, z1))))\n",
    "\n",
    "\n"
   ]
  },
  {
   "cell_type": "code",
   "execution_count": 365,
   "metadata": {},
   "outputs": [],
   "source": [
    "# IMPORTANT PART\n",
    "# UPDATES GRADIENT ASSUMING FORWARD PROP HAS BEEN RUN AND DELTAS HAVE BEEN CALCULATED\n",
    "for l in range(layers, 0, -1):\n",
    "    net.parameter_dict[l]['gradient'] += net.rate * np.dot(net.parameter_dict[l - 1]['h'].T, net.parameter_dict[l]['delta'])"
   ]
  },
  {
   "cell_type": "code",
   "execution_count": 361,
   "metadata": {},
   "outputs": [
    {
     "data": {
      "text/plain": [
       "{'w': matrix([[-0.5026567 , -0.74275387, -1.14755031],\n",
       "         [-1.7088462 , -1.69649097, -0.39705638],\n",
       "         [ 0.18734045, -0.63625343,  0.1105143 ],\n",
       "         [ 0.04401923, -1.02881815, -1.41719269]]),\n",
       " 'h': matrix([[ 1.        , -0.728575  , -0.74248112]]),\n",
       " 'z': matrix([[0., 0., 0.]]),\n",
       " 'delta': matrix([[0.90681126, 1.52612745, 0.50289372]]),\n",
       " 'activation': 'relu',\n",
       " 'gradient': matrix([[ 0.09068113,  0.15261275,  0.05028937],\n",
       "         [-0.02621609, -0.04412065, -0.01453876],\n",
       "         [ 0.04571724,  0.0769403 ,  0.02535358],\n",
       "         [ 0.09541183,  0.16057432,  0.05291289]])}"
      ]
     },
     "execution_count": 361,
     "metadata": {},
     "output_type": "execute_result"
    }
   ],
   "source": [
    "net.parameter_dict[1]"
   ]
  },
  {
   "cell_type": "code",
   "execution_count": 347,
   "metadata": {},
   "outputs": [
    {
     "data": {
      "text/plain": [
       "{'w': matrix([[-1.07491235,  0.79665676],\n",
       "         [-0.21523174, -0.86358744],\n",
       "         [ 0.49410561, -1.09611215]]),\n",
       " 'h': matrix([[-0.62553319,  2.79837561]]),\n",
       " 'z': matrix([[0., 0.]]),\n",
       " 'delta': matrix([[-0.43099707,  0.55107776]]),\n",
       " 'activation': 'relu',\n",
       " 'gradient': matrix([[0., 0.],\n",
       "         [0., 0.],\n",
       "         [0., 0.]])}"
      ]
     },
     "execution_count": 347,
     "metadata": {},
     "output_type": "execute_result"
    }
   ],
   "source": [
    "net.parameter_dict[1]"
   ]
  },
  {
   "cell_type": "code",
   "execution_count": 265,
   "metadata": {},
   "outputs": [
    {
     "name": "stdout",
     "output_type": "stream",
     "text": [
      "[[-2.  0.]\n",
      " [ 4.  0.]]\n"
     ]
    }
   ],
   "source": [
    "print(np.dot(w2.T,np.diag(np.apply_along_axis(net.activate_prime, 0, z1)) ))"
   ]
  },
  {
   "cell_type": "code",
   "execution_count": 369,
   "metadata": {},
   "outputs": [
    {
     "data": {
      "text/plain": [
       "matrix([[ 1.        ,  0.66295077,  0.67952681,  0.92289468, -0.70518447,\n",
       "          0.42380718, -0.65953213,  0.13498344,  0.57211785, -0.13666202]])"
      ]
     },
     "execution_count": 369,
     "metadata": {},
     "output_type": "execute_result"
    }
   ],
   "source": [
    "np.matrix(np.append(1, np.random.randn(9)))"
   ]
  },
  {
   "cell_type": "code",
   "execution_count": null,
   "metadata": {},
   "outputs": [],
   "source": []
  }
 ],
 "metadata": {
  "kernelspec": {
   "display_name": "Python 3",
   "language": "python",
   "name": "python3"
  },
  "language_info": {
   "codemirror_mode": {
    "name": "ipython",
    "version": 3
   },
   "file_extension": ".py",
   "mimetype": "text/x-python",
   "name": "python",
   "nbconvert_exporter": "python",
   "pygments_lexer": "ipython3",
   "version": "3.7.4"
  }
 },
 "nbformat": 4,
 "nbformat_minor": 2
}
